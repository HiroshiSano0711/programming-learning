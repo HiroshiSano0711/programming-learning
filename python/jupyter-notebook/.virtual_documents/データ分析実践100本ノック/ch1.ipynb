import pandas as pd
import numpy as np
import matplotlib.pyplot as plt
%matplotlib inline


customer_master = pd.read_csv('datasets/customer_master.csv')


customer_master.head()


transaction_1 = pd.read_csv('datasets/transaction_1.csv')
transaction_1.head()


transaction_detail_1 = pd.read_csv('datasets/transaction_detail_1.csv')
transaction_detail_1.head()


transaction_2 = pd.read_csv('datasets/transaction_2.csv')
transaction = pd.concat([transaction_1, transaction_2], ignore_index=True)
print(len(transaction_1))
print(len(transaction_2))
print(len(transaction))


transaction_detail_2 = pd.read_csv('datasets/transaction_detail_2.csv')
transaction_detail = pd.concat([transaction_detail_1, transaction_detail_2], ignore_index=True)
print(len(transaction_detail_1))
print(len(transaction_detail_2))
print(len(transaction_detail))


transaction


join_data = pd.merge(transaction_detail,
         transaction[['transaction_id', 'payment_date', 'customer_id']],
         on='transaction_id',
         how='left')
print(len(join_data))
join_data


# 足りない（付加したい）データ列は何か?共通するデータ列は何か？ を考える
item_master = pd.read_csv('datasets/item_master.csv')
item_master


join_master_data = pd.merge(join_data, customer_master, on='customer_id', how='left')
all_data = pd.merge(join_master_data, item_master, on='item_id', how='left')
all_data


all_data[['item_price','quantity']]


# transactionのpriceカラムには商品価格と数量の合計で計算された結果が保存されているので、直接結合すると重複がでておかしくなる
# そのため、price以外を結合してからpriceを計算してカラムに追加する

all_data['price'] = all_data['item_price']* all_data['quantity']


all_data['price'].sum()


transaction['price'].sum()


all_data.isnull().sum()


all_data.dtypes


all_data['payment_date'].min()


all_data['payment_date'].max()


all_data['payment_date'] = pd.to_datetime(all_data['payment_date'])


all_data.dtypes


all_data['payment_month'] = all_data['payment_date'].dt.strftime("%Y%m")


all_data['payment_month']


all_data.groupby('payment_month').sum(numeric_only=True)


per_month_sale = all_data.groupby('payment_month').sum(numeric_only=True)
per_month_sale[['quantity', 'price']]


per_month_sale[['quantity', 'price']].sum()


# all_data.style.format({'price': '{:,d}'})
all_data.groupby(['payment_month','item_name']).sum(numeric_only=True)[['quantity', 'price']]


pd.pivot_table(all_data,
               index='item_name',
               columns='payment_month',
               values=['price','quantity'],
              aggfunc='sum')


item_master


per_month_sale[['quantity', 'price']]


gragh_data = pd.pivot_table(all_data,
                            index='payment_month',
                            columns='item_name',
                            values='price',
                            aggfunc='sum')
gragh_data


plt.plot(list(gragh_data.index), gragh_data['PC-A'], label='PC-A')
plt.plot(list(gragh_data.index), gragh_data['PC-B'], label='PC-B')
plt.plot(list(gragh_data.index), gragh_data['PC-C'], label='PC-C')
plt.plot(list(gragh_data.index), gragh_data['PC-D'], label='PC-D')
plt.plot(list(gragh_data.index), gragh_data['PC-E'], label='PC-E')
plt.legend()





uriage_data = pd.read_csv('datasets/uriage.csv')
uriage_data


kokyaku_data = pd.read_excel('datasets/kokyaku_daicho.xlsx')
kokyaku_data



