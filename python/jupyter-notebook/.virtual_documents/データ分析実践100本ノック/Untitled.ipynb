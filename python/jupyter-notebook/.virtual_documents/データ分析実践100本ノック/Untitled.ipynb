import pandas as pd
import numpy as np
import matplotlib.pyplot as plt
%matplotlib inline


uriage_data = pd.read_csv('datasets/uriage.csv')
uriage_data


kokyaku_data = pd.read_excel('datasets/kokyaku_daicho.xlsx')
kokyaku_data


# 商品数は26個だからかなり重複がある
len(uriage_data.item_name.unique())


# 同じ商品なのに違う商品データとしてカウントされているので補正する
# 同じ商品なのに違う価格が設定されてしまっていないか確認
uriage_data['item_name'] = uriage_data['item_name'].str.upper()
uriage_data['item_name'] = uriage_data['item_name'].str.strip()


len(uriage_data['item_name'].unique())


uriage_data['item_name'] = uriage_data['item_name'].str.replace(' ', '')
uriage_data['item_name'] = uriage_data['item_name'].str.replace('　', '')


for trg in list(uriage_data['item_name'].sort_values().unique()):
    print(trg + '最大価格:' + str(uriage_data.loc[uriage_data['item_name']==trg]['item_price'].max()) + '最小価格:' + str(uriage_data.loc[uriage_data['item_name']==trg]['item_price'].min(skipna=False)))


uriage_data.isnull().any(axis=0)


flg_null = uriage_data['item_price'].isnull()
for trg in list(uriage_data.loc[flg_null, 'item_name'].unique()):
    price = uriage_data.loc[(~flg_null) & (uriage_data['item_name'] == trg), 'item_price'].max()
    uriage_data.loc[(flg_null) & (uriage_data['item_name'] == trg), 'item_price'] = price


result = []
for trg in list(uriage_data['item_name'].sort_values().unique()):
    flg = uriage_data.loc[uriage_data['item_name']==trg]['item_price'].max() == uriage_data.loc[uriage_data['item_name']==trg]['item_price'].min(skipna=False)
    if ~flg:
        print(trg)
    result.append(flg)
np.all(result)


uriage_data.isnull().any(axis=0)


kokyaku_data['顧客名']


uriage_data['customer_name']


kokyaku_data['顧客名'] = kokyaku_data['顧客名'].str.replace(' ', '')
kokyaku_data['顧客名'] = kokyaku_data['顧客名'].str.replace('　', '')


flg_serial = kokyaku_data['登録日'].astype('str').str.isdigit()
flg_serial.sum()





kokyaku_data.loc[~flg_serial, '登録日']


kokyaku_data.loc[flg_serial, '登録日'] = pd.to_timedelta(kokyaku_data.loc[flg_serial, '登録日'].astype('float') - 2, unit='D') + pd.to_datetime('1900/1/1')


kokyaku_data.loc[~flg_serial, '登録日'] = pd.to_datetime(kokyaku_data.loc[~flg_serial, '登録日'])


kokyaku_data['登録日'] = pd.to_datetime(kokyaku_data['登録日'])


kokyaku_data['登録年月'] = kokyaku_data['登録日'].dt.strftime("%Y%m")


result = kokyaku_data.groupby('登録年月').count()

result['顧客名'].sum()


len(kokyaku_data)


kokyaku_data


uriage_data


join_data = pd.merge(uriage_data, kokyaku_data, left_on='customer_name', right_on='顧客名', how='left')


join_data = join_data.drop('customer_name', axis=1)


join_data['purchase_month'] = pd.to_datetime(join_data['purchase_date']).dt.strftime("%Y%m")


dump_data = join_data[['purchase_date','purchase_month','item_name','item_price','顧客名','かな','地域','メールアドレス','登録日','登録年月']]
dump_data





import_data = pd.read_csv('dump_data.csv')
import_data


by_item = import_data.pivot_table(index='purchase_month', columns='item_name', aggfunc='size',fill_value=0)
by_item


by_price = import_data.pivot_table(index='purchase_month', columns='item_name', values='item_price', aggfunc='sum',fill_value=0)
by_price


by_customer = import_data.pivot_table(index='purchase_month', columns='顧客名', aggfunc='size',fill_value=0)
by_customer


by_region = import_data.pivot_table(index='purchase_month', columns='地域', aggfunc='size',fill_value=0)
by_region


not_purchase_customer = pd.merge(uriage_data, kokyaku_data, left_on='customer_name', right_on='顧客名', how='right')
not_purchase_customer



