import pandas as pd
import numpy as np
import matplotlib.pyplot as plt
%matplotlib inline


uselog = pd.read_csv('./use_log.csv')
print(len(uselog))
uselog.head()


customer = pd.read_csv('./customer_join.csv')
print(len(customer))
customer.head()


uselog.isnull().sum()


customer_clustering = customer[['mean','median','max','min','membership_period']]
customer_clustering.head()


from sklearn.cluster import KMeans
from sklearn.preprocessing import StandardScaler


sc = StandardScaler()
customer_clustering_sc = sc.fit_transform(customer_clustering)


kmeans = KMeans(n_clusters=4, random_state=0)
clusters = kmeans.fit(customer_clustering_sc)
clusters.labels_


customer_clustering = customer_clustering.assign(cluster = clusters.labels_)
customer_clustering


customer_clustering['cluster'].unique()


customer_clustering.head()


customer_clustering.columns = ['月内利用平均値','月内利用中央値','月内利用最大値','月内利用最小値','会員期間','cluster']


customer_clustering.groupby('cluster').count()


customer_clustering.groupby('cluster').mean()


from sklearn.decomposition import PCA

X = customer_clustering_sc
pca = PCA(n_components=2)
pca.fit(X)
x_pca = pca.transform(X)
pca_df = pd.DataFrame(x_pca)
pca_df['cluster'] = customer_clustering['cluster']
pca_df


for i in customer_clustering['cluster'].unique():
    tmp = pca_df.loc[pca_df['cluster'] == i]
    plt.scatter(tmp[0],tmp[1])
plt.show()


customer_clustering_join = pd.concat([customer_clustering, customer], axis=1)
customer_clustering_join


customer_clustering_join.groupby(['cluster', 'is_deleted'], as_index=False).count()[['cluster', 'is_deleted','customer_id']]


"""
cluster: 0　→会員期間長め、利用回数多い
cluster: 1　→会員期間短め、利用回数少ない
cluster: 2　→会員期間長い、利用回数多め
cluster: 3　→会員期間短い、利用回数多い
"""
customer_clustering.groupby('cluster').mean()



customer_clustering_join.groupby(['cluster', 'routine_flg'], as_index=False).count()[['cluster', 'routine_flg','customer_id']]



