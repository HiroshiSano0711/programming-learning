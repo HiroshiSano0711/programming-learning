import pandas as pd
import matplotlib.pyplot as plt
import seaborn as sns


df_weather = pd.read_csv("weather.csv", index_col="年月日", parse_dates=True)


sns.set(font="Hiragino Maru Gothic Pro")
plt.figure(figsize=(15,8))
plt.xticks(rotation=90)
sns.lineplot(data=df_weather)


df_score = pd.read_csv("test_score.csv")


sns.set(font="Hiragino Maru Gothic Pro", context="notebook")
sns.barplot(data=df_score, x="国語", y="名前")


sns.histplot(df_score,
             x="理科",
             binrange=(0, 100),
             bins=10,
             hue="クラス",
             hue_order=["1組","2組","3組"],
             multiple="dodge",
             shrink=0.8
            )


plt.figure(figsize=(8,8))
plt.xlim(20, 100)
plt.ylim(20, 100)
sns.scatterplot(data=df_score,
                x="国語",
                y="算数",
                hue="クラス",
                hue_order=["1組","2組","3組"]
               )



sns.lmplot(data=df_score,
            x="国語",
            y="算数",
            hue="クラス",
            hue_order=["1組","2組","3組"],
            height=8)


sns.kdeplot(data=df_score,
            x="国語",
            y="算数",
            hue="クラス",
            hue_order=["1組","2組","3組"])


df_enq = pd.read_csv("enquete_sample.csv")


df_enq


df_enq.head(20)


# df_enq[df_enq["年収"] <= 500]
#df_enq.sort_values("年収")　# 昇順
#df_enq.sort_values("年収", ascending=False) # 降順
df_enq.sort_values(["年代","年収"])


df_enq.sum(numeric_only=True)






