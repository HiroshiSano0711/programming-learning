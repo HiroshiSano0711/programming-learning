{
 "cells": [
  {
   "cell_type": "code",
   "execution_count": 148,
   "id": "d39eefbf-c022-47fc-ba3c-43f80cc418dd",
   "metadata": {},
   "outputs": [
    {
     "name": "stdout",
     "output_type": "stream",
     "text": [
      "AIプレイヤー nan\n"
     ]
    },
    {
     "ename": "IndexError",
     "evalue": "only integers, slices (`:`), ellipsis (`...`), numpy.newaxis (`None`) and integer or boolean arrays are valid indices",
     "output_type": "error",
     "traceback": [
      "\u001b[0;31m---------------------------------------------------------------------------\u001b[0m",
      "\u001b[0;31mIndexError\u001b[0m                                Traceback (most recent call last)",
      "Cell \u001b[0;32mIn[148], line 133\u001b[0m\n\u001b[1;32m    131\u001b[0m \u001b[38;5;28;01mwhile\u001b[39;00m \u001b[38;5;28;01mTrue\u001b[39;00m:\n\u001b[1;32m    132\u001b[0m     p \u001b[38;5;241m=\u001b[39m players[player]\n\u001b[0;32m--> 133\u001b[0m     \u001b[43mp\u001b[49m\u001b[38;5;241;43m.\u001b[39;49m\u001b[43mplay\u001b[49m\u001b[43m(\u001b[49m\u001b[43mboard\u001b[49m\u001b[43m)\u001b[49m\n\u001b[1;32m    134\u001b[0m     board\u001b[38;5;241m.\u001b[39mrender()\n\u001b[1;32m    136\u001b[0m     \u001b[38;5;28;01mif\u001b[39;00m board\u001b[38;5;241m.\u001b[39mis_win(player):\n",
      "Cell \u001b[0;32mIn[148], line 85\u001b[0m, in \u001b[0;36mAIPlayer.play\u001b[0;34m(self, board)\u001b[0m\n\u001b[1;32m     83\u001b[0m score, idx \u001b[38;5;241m=\u001b[39m minimax(board, \u001b[38;5;28mself\u001b[39m\u001b[38;5;241m.\u001b[39mplayer)\n\u001b[1;32m     84\u001b[0m \u001b[38;5;28mprint\u001b[39m(\u001b[38;5;124m\"\u001b[39m\u001b[38;5;124mAIプレイヤー\u001b[39m\u001b[38;5;124m\"\u001b[39m, idx)\n\u001b[0;32m---> 85\u001b[0m moves \u001b[38;5;241m=\u001b[39m \u001b[43mboard\u001b[49m\u001b[38;5;241;43m.\u001b[39;49m\u001b[43mmove\u001b[49m\u001b[43m(\u001b[49m\u001b[43midx\u001b[49m\u001b[43m)\u001b[49m\n",
      "Cell \u001b[0;32mIn[148], line 30\u001b[0m, in \u001b[0;36mBoard.move\u001b[0;34m(self, idx)\u001b[0m\n\u001b[1;32m     29\u001b[0m \u001b[38;5;28;01mdef\u001b[39;00m \u001b[38;5;21mmove\u001b[39m(\u001b[38;5;28mself\u001b[39m, idx):\n\u001b[0;32m---> 30\u001b[0m     \u001b[38;5;28;01mif\u001b[39;00m \u001b[38;5;241m~\u001b[39mnp\u001b[38;5;241m.\u001b[39misnan(\u001b[38;5;28;43mself\u001b[39;49m\u001b[38;5;241;43m.\u001b[39;49m\u001b[43mstate\u001b[49m\u001b[43m[\u001b[49m\u001b[43midx\u001b[49m\u001b[43m]\u001b[49m):\n\u001b[1;32m     31\u001b[0m         \u001b[38;5;28;01mreturn\u001b[39;00m \u001b[38;5;28;01mFalse\u001b[39;00m\n\u001b[1;32m     33\u001b[0m     player \u001b[38;5;241m=\u001b[39m \u001b[38;5;28mself\u001b[39m\u001b[38;5;241m.\u001b[39mcounter \u001b[38;5;241m%\u001b[39m \u001b[38;5;241m2\u001b[39m \u001b[38;5;66;03m# 2人ゲームで交互にプレイするので、2で割った余りを出せばどっちの番か判定できる\u001b[39;00m\n",
      "\u001b[0;31mIndexError\u001b[0m: only integers, slices (`:`), ellipsis (`...`), numpy.newaxis (`None`) and integer or boolean arrays are valid indices"
     ]
    }
   ],
   "source": [
    "import numpy as np\n",
    "from textwrap import dedent\n",
    "\n",
    "MARKS = {0: 'X', 1: 'O'}\n",
    "GRID_NUM = 3 # マス目の数。3x3なら3。4x4にしたいなら4を指定する。\n",
    "BLANK_GRID = -1\n",
    "# ボードクラス。盤面に関するロジックを担当するクラス\n",
    "class Board:\n",
    "    def __init__(self):\n",
    "        self.state = np.full(GRID_NUM*GRID_NUM, BLANK_GRID)\n",
    "        self.counter = 0 # どれだけゲームが進んだかを管理する。現在どのプレイヤーの番か判定する\n",
    "\n",
    "\n",
    "    # 視覚的にわかりやすく表示する\n",
    "    def render(self):\n",
    "        text = \"\"\"\n",
    "            0|1|2\n",
    "            3|4|5\n",
    "            6|7|8\n",
    "        \"\"\"\n",
    "\n",
    "        for idx, x in enumerate(self.state):\n",
    "            if x == BLANK_GRID:\n",
    "                text = text.replace(str(idx), MARKS[x])\n",
    "        print(dedent(text).strip())\n",
    "\n",
    "\n",
    "    # 手を指すという意味。将棋とか囲碁ではmoveという関数がよく定義される\n",
    "    def move(self, idx):\n",
    "        if ~np.isnan(self.state[idx]):\n",
    "            return False\n",
    "\n",
    "        player = self.counter % 2 # 2人ゲームで交互にプレイするので、2で割った余りを出せばどっちの番か判定できる\n",
    "        self.state[idx] = int(player)  # 0 or 1\n",
    "        \n",
    "        self.counter += 1         # ゲーム進行を1手進める\n",
    "        return True\n",
    "\n",
    "    def unmove(self, idx):\n",
    "        self.counter -= 1\n",
    "        self.state[idx] = np.nan\n",
    "\n",
    "    # プレイヤーが勝利したかどうかチェックする\n",
    "    def is_win(self, player):\n",
    "        s = self.state\n",
    "\n",
    "        # 縦横斜めで揃ったかどうか\n",
    "        if(\n",
    "            s[0] == s[1] == s[2] == player or\n",
    "            s[3] == s[4] == s[5] == player or\n",
    "            s[6] == s[7] == s[8] == player or\n",
    "            s[0] == s[3] == s[6] == player or\n",
    "            s[1] == s[4] == s[7] == player or\n",
    "            s[2] == s[5] == s[8] == player or\n",
    "            s[0] == s[4] == s[8] == player or\n",
    "            s[2] == s[4] == s[6] == player\n",
    "        ):\n",
    "            return True\n",
    "        return False\n",
    "\n",
    "    def win_condition(state, player):\n",
    "        GAME_GRID_NUM\n",
    "\n",
    "    # ゲームが終了したかどうか\n",
    "    def is_end(self):\n",
    "        if np.nan in self.state:\n",
    "            return False\n",
    "        return True\n",
    "\n",
    "    # 次の手を指せる場所\n",
    "    def valid_moves(self):\n",
    "        moves = []\n",
    "        for idx, player in enumerate(self.state):\n",
    "            if np.isnan(player):\n",
    "                moves.append(idx)\n",
    "        return moves\n",
    "\n",
    "class AIPlayer:\n",
    "    def __init__(self, player):\n",
    "        self.player = player\n",
    "\n",
    "    def play(self, board):\n",
    "        score, idx = minimax(board, self.player)\n",
    "        print(\"AIプレイヤー\", idx)\n",
    "        moves = board.move(idx)\n",
    "\n",
    "def minimax(board, player):\n",
    "    maximize_player = 0\n",
    "    minimize_player = 1\n",
    "\n",
    "    if board.is_win(maximize_player):\n",
    "        return (1, np.nan)\n",
    "    elif board.is_win(minimize_player):\n",
    "        return (-1, np.nan)\n",
    "    elif board.is_end():\n",
    "        return (0, np.nan)\n",
    "\n",
    "    opp = 1 if player == 0 else 0\n",
    "\n",
    "    if player == maximize_player:\n",
    "        max_score = -np.inf\n",
    "        max_idx = np.nan\n",
    "\n",
    "        for idx in board.valid_moves():\n",
    "            board.move(idx)\n",
    "            score, next_idx = minimax(board, opp)\n",
    "            if max_score < score:\n",
    "                max_score = score\n",
    "                max_idx = idx\n",
    "            board.unmove(idx)\n",
    "        return max_score, max_idx\n",
    "\n",
    "    elif player == minimize_player:\n",
    "        min_score = np.inf\n",
    "        min_idx = np.nan\n",
    "\n",
    "        for idx in board.valid_moves():\n",
    "            board.move(idx)\n",
    "            score, next_idx = minimax(board, opp)\n",
    "            if min_score > score:\n",
    "                min_score = score\n",
    "                min_idx = idx\n",
    "            board.unmove(idx)\n",
    "        return min_score, min_idx\n",
    "\n",
    "\n",
    "board = Board()\n",
    "players = [AIPlayer(0),AIPlayer(1)]\n",
    "player = 0\n",
    "\n",
    "while True:\n",
    "    p = players[player]\n",
    "    p.play(board)\n",
    "    board.render()\n",
    "\n",
    "    if board.is_win(player):\n",
    "        print(MARKS[player] + 'の勝ち')\n",
    "        break\n",
    "    elif board.is_end():\n",
    "        print('引き分け')\n",
    "        break\n",
    "    player = 1 if player == 0 else 0\n"
   ]
  },
  {
   "cell_type": "code",
   "execution_count": 152,
   "id": "59cb36f3-7c54-4212-b161-a58017c09817",
   "metadata": {},
   "outputs": [
    {
     "data": {
      "text/plain": [
       "False"
      ]
     },
     "execution_count": 152,
     "metadata": {},
     "output_type": "execute_result"
    }
   ],
   "source": [
    "~np.isnan(board.state[idx])"
   ]
  },
  {
   "cell_type": "code",
   "execution_count": 160,
   "id": "28b2ee8a-6631-46d5-aebb-c74d23dddcb9",
   "metadata": {},
   "outputs": [
    {
     "data": {
      "text/plain": [
       "nan"
      ]
     },
     "execution_count": 160,
     "metadata": {},
     "output_type": "execute_result"
    }
   ],
   "source": [
    "board.state[1]"
   ]
  },
  {
   "cell_type": "code",
   "execution_count": 158,
   "id": "865b9610-b12d-49fb-8fb4-ae092f132388",
   "metadata": {},
   "outputs": [
    {
     "data": {
      "text/plain": [
       "0.0"
      ]
     },
     "execution_count": 158,
     "metadata": {},
     "output_type": "execute_result"
    }
   ],
   "source": [
    "board.state[0]"
   ]
  },
  {
   "cell_type": "code",
   "execution_count": 132,
   "id": "287d90d7-688a-4657-aa0f-92bc022cee0d",
   "metadata": {},
   "outputs": [
    {
     "data": {
      "text/plain": [
       "array([0, 1, 2, 3, 4, 5, 6, 7, 8])"
      ]
     },
     "execution_count": 132,
     "metadata": {},
     "output_type": "execute_result"
    }
   ],
   "source": [
    "state"
   ]
  },
  {
   "cell_type": "code",
   "execution_count": 144,
   "id": "62fc3744-3e3f-43df-b984-997541e6778c",
   "metadata": {},
   "outputs": [
    {
     "data": {
      "text/plain": [
       "array([nan, nan, nan, nan, nan, nan, nan, nan, nan])"
      ]
     },
     "execution_count": 144,
     "metadata": {},
     "output_type": "execute_result"
    }
   ],
   "source": [
    "np.full(GRID_NUM*GRID_NUM, np.nan)"
   ]
  },
  {
   "cell_type": "code",
   "execution_count": 135,
   "id": "efec2560-f2b8-4697-b7c4-e62acc637b71",
   "metadata": {},
   "outputs": [
    {
     "ename": "NameError",
     "evalue": "name 'GAME_GRID_NUM' is not defined",
     "output_type": "error",
     "traceback": [
      "\u001b[0;31m---------------------------------------------------------------------------\u001b[0m",
      "\u001b[0;31mNameError\u001b[0m                                 Traceback (most recent call last)",
      "Cell \u001b[0;32mIn[135], line 1\u001b[0m\n\u001b[0;32m----> 1\u001b[0m \u001b[43mGAME_GRID_NUM\u001b[49m\n",
      "\u001b[0;31mNameError\u001b[0m: name 'GAME_GRID_NUM' is not defined"
     ]
    }
   ],
   "source": [
    "GAME_GRID_NUM"
   ]
  },
  {
   "cell_type": "code",
   "execution_count": 137,
   "id": "b40d5e3a-3c61-43d9-8f3f-1ed53efb505c",
   "metadata": {},
   "outputs": [
    {
     "data": {
      "text/plain": [
       "3"
      ]
     },
     "execution_count": 137,
     "metadata": {},
     "output_type": "execute_result"
    }
   ],
   "source": [
    "GAME_GRID_NUM"
   ]
  },
  {
   "cell_type": "code",
   "execution_count": 143,
   "id": "0bfa50e6-b38c-4c38-ad03-693add279fe2",
   "metadata": {},
   "outputs": [
    {
     "data": {
      "text/plain": [
       "9"
      ]
     },
     "execution_count": 143,
     "metadata": {},
     "output_type": "execute_result"
    }
   ],
   "source": [
    "GRID_NUM*GRID_NUM"
   ]
  },
  {
   "cell_type": "code",
   "execution_count": 147,
   "id": "1dfa658e-26a1-4cfb-a10f-543125c17f7d",
   "metadata": {},
   "outputs": [
    {
     "data": {
      "text/plain": [
       "True"
      ]
     },
     "execution_count": 147,
     "metadata": {},
     "output_type": "execute_result"
    }
   ],
   "source": [
    "np.isnan(np.nan)"
   ]
  },
  {
   "cell_type": "code",
   "execution_count": null,
   "id": "1ba17953-e52b-4929-b737-ba1f8fcc1ba5",
   "metadata": {},
   "outputs": [],
   "source": []
  }
 ],
 "metadata": {
  "kernelspec": {
   "display_name": "Python 3 (ipykernel)",
   "language": "python",
   "name": "python3"
  },
  "language_info": {
   "codemirror_mode": {
    "name": "ipython",
    "version": 3
   },
   "file_extension": ".py",
   "mimetype": "text/x-python",
   "name": "python",
   "nbconvert_exporter": "python",
   "pygments_lexer": "ipython3",
   "version": "3.12.7"
  }
 },
 "nbformat": 4,
 "nbformat_minor": 5
}
