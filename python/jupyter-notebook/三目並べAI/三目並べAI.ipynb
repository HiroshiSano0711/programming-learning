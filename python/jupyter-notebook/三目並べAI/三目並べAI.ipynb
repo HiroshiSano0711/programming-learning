{
 "cells": [
  {
   "cell_type": "code",
   "execution_count": 70,
   "id": "d39eefbf-c022-47fc-ba3c-43f80cc418dd",
   "metadata": {
    "scrolled": true
   },
   "outputs": [
    {
     "name": "stdout",
     "output_type": "stream",
     "text": [
      "AIプレイヤー 0\n",
      "X|1|2\n",
      "3|4|5\n",
      "6|7|8\n",
      "AIプレイヤー 4\n",
      "X|1|2\n",
      "3|O|5\n",
      "6|7|8\n",
      "AIプレイヤー 1\n",
      "X|X|2\n",
      "3|O|5\n",
      "6|7|8\n",
      "AIプレイヤー 2\n",
      "X|X|O\n",
      "3|O|5\n",
      "6|7|8\n",
      "AIプレイヤー 6\n",
      "X|X|O\n",
      "3|O|5\n",
      "X|7|8\n",
      "AIプレイヤー 3\n",
      "X|X|O\n",
      "O|O|5\n",
      "X|7|8\n",
      "AIプレイヤー 5\n",
      "X|X|O\n",
      "O|O|X\n",
      "X|7|8\n",
      "AIプレイヤー 7\n",
      "X|X|O\n",
      "O|O|X\n",
      "X|O|8\n",
      "AIプレイヤー 8\n",
      "X|X|O\n",
      "O|O|X\n",
      "X|O|X\n",
      "引き分け\n"
     ]
    }
   ],
   "source": [
    "import numpy as np\n",
    "from textwrap import dedent\n",
    "import time\n",
    "\n",
    "MARKS = {0: 'X', 1: 'O'}\n",
    "GRID_NUM = 3 # マス目の数。3x3なら3。4x4にしたいなら4を指定する。\n",
    "\n",
    "def win_condition():\n",
    "    condition = []\n",
    "    grid = np.arange(GRID_NUM*GRID_NUM).reshape(GRID_NUM,GRID_NUM)\n",
    "    for x in range(GRID_NUM):\n",
    "        condition.append(grid[x])\n",
    "        condition.append(grid[:,x])\n",
    "\n",
    "    condition.append(np.diag(grid))\n",
    "    condition.append(np.diag(grid[:,::-1]))\n",
    "    return condition\n",
    "\n",
    "    \n",
    "# ボードクラス。盤面に関するロジックを担当するクラス\n",
    "class Board:\n",
    "    def __init__(self):\n",
    "        self.state = np.full(GRID_NUM*GRID_NUM, None)\n",
    "        self.counter = 0\n",
    "        self.win_condition = win_condition()\n",
    "\n",
    "\n",
    "    # 視覚的にわかりやすく表示する\n",
    "    def render(self):\n",
    "        text = \"\"\"\n",
    "            0|1|2\n",
    "            3|4|5\n",
    "            6|7|8\n",
    "        \"\"\"\n",
    "\n",
    "        for idx, x in enumerate(self.state):\n",
    "            if x is not None:\n",
    "                text = text.replace(str(idx), MARKS[x])\n",
    "        print(dedent(text).strip())\n",
    "\n",
    "\n",
    "    def move(self, idx):\n",
    "        if self.state[idx] is not None:\n",
    "            return False\n",
    "\n",
    "        player = self.counter % 2\n",
    "        self.state[idx] = player\n",
    "\n",
    "        self.counter += 1\n",
    "     \n",
    "        return True\n",
    "\n",
    "\n",
    "    def unmove(self, idx):\n",
    "        self.counter -= 1\n",
    "        self.state[idx] = None\n",
    "\n",
    "\n",
    "    def is_win(self, player):\n",
    "        s = self.state\n",
    "        if(\n",
    "            s[0] == s[1] == s[2] == player or\n",
    "            s[3] == s[4] == s[5] == player or\n",
    "            s[6] == s[7] == s[8] == player or\n",
    "            s[0] == s[3] == s[6] == player or\n",
    "            s[1] == s[4] == s[7] == player or\n",
    "            s[2] == s[5] == s[8] == player or\n",
    "            s[0] == s[4] == s[8] == player or\n",
    "            s[2] == s[4] == s[6] == player\n",
    "        ):\n",
    "            return True\n",
    "        # 毎回ループが入って遅くなるので一旦不採用。4x4とかに拡張できるようにしたいため\n",
    "        # grid = self.state.reshape(GRID_NUM,GRID_NUM)\n",
    "        # for idx in range(len(self.win_condition)):\n",
    "            # if all(board.state[board.win_condition[idx]] == player):\n",
    "                # return True\n",
    "        return False\n",
    "\n",
    "\n",
    "    def is_end(self):\n",
    "        return False if None in self.state else True\n",
    "\n",
    "\n",
    "    def valid_moves(self):\n",
    "        return [idx for idx, s in enumerate(self.state) if s is None]\n",
    "\n",
    "\n",
    "class AIPlayer:\n",
    "    def __init__(self, player):\n",
    "        self.player = player\n",
    "\n",
    "\n",
    "    def play(self, board):\n",
    "        score, idx = minimax(board, self.player)\n",
    "        print(\"AIプレイヤー\", idx)\n",
    "        moves = board.move(idx)\n",
    "\n",
    "\n",
    "def minimax(board, player):\n",
    "    maximize_player = 0\n",
    "    minimize_player = 1\n",
    "\n",
    "    if board.is_win(maximize_player):\n",
    "        return (1, None)\n",
    "    elif board.is_win(minimize_player):\n",
    "        return (-1, None)\n",
    "    elif board.is_end():\n",
    "        return (0, None)\n",
    "    \n",
    "    opp = 1 if player == 0 else 0\n",
    "\n",
    "    if player == maximize_player:\n",
    "        max_score = -np.inf\n",
    "        max_idx = None\n",
    "\n",
    "        for idx in board.valid_moves():\n",
    "            board.move(idx)\n",
    "            score, next_idx = minimax(board, opp)\n",
    "            if max_score < score:\n",
    "                max_score = score\n",
    "                max_idx = idx\n",
    "            board.unmove(idx)\n",
    "        return max_score, max_idx\n",
    "\n",
    "    elif player == minimize_player:\n",
    "        min_score = np.inf\n",
    "        min_idx = None\n",
    "\n",
    "        for idx in board.valid_moves():\n",
    "            board.move(idx)\n",
    "            score, next_idx = minimax(board, opp)\n",
    "            if min_score > score:\n",
    "                min_score = score\n",
    "                min_idx = idx\n",
    "            board.unmove(idx)\n",
    "        return min_score, min_idx\n",
    "\n",
    "\n",
    "board = Board()\n",
    "players = [AIPlayer(0),AIPlayer(1)]\n",
    "player = 0\n",
    "\n",
    "while True:\n",
    "    p = players[player]\n",
    "    p.play(board)\n",
    "    board.render()\n",
    "\n",
    "    if board.is_win(player):\n",
    "        print(MARKS[player] + 'の勝ち')\n",
    "        break\n",
    "    elif board.is_end():\n",
    "        print('引き分け')\n",
    "        break\n",
    "    player = 1 if player == 0 else 0"
   ]
  },
  {
   "cell_type": "code",
   "execution_count": 21,
   "id": "a2c1e95b-3201-4d26-8f46-3423c0f2b7f6",
   "metadata": {},
   "outputs": [],
   "source": [
    "grid = board.state.reshape(GRID_NUM,GRID_NUM)\n",
    "for idx in range(len(board.win_condition)):\n",
    "# if all(board.state[board.win_condition[idx]] == player):"
   ]
  },
  {
   "cell_type": "code",
   "execution_count": 30,
   "id": "80ff2ed3-d880-414f-bcda-46ef73519de2",
   "metadata": {},
   "outputs": [
    {
     "ename": "ValueError",
     "evalue": "The truth value of an array with more than one element is ambiguous. Use a.any() or a.all()",
     "output_type": "error",
     "traceback": [
      "\u001b[0;31m---------------------------------------------------------------------------\u001b[0m",
      "\u001b[0;31mValueError\u001b[0m                                Traceback (most recent call last)",
      "Cell \u001b[0;32mIn[30], line 1\u001b[0m\n\u001b[0;32m----> 1\u001b[0m \u001b[38;5;28;43mall\u001b[39;49m\u001b[43m(\u001b[49m\u001b[43mboard\u001b[49m\u001b[38;5;241;43m.\u001b[39;49m\u001b[43mstate\u001b[49m\u001b[43m[\u001b[49m\u001b[43mboard\u001b[49m\u001b[38;5;241;43m.\u001b[39;49m\u001b[43mwin_condition\u001b[49m\u001b[43m]\u001b[49m\u001b[43m \u001b[49m\u001b[38;5;241;43m==\u001b[39;49m\u001b[43m \u001b[49m\u001b[38;5;241;43m0\u001b[39;49m\u001b[43m)\u001b[49m\n",
      "\u001b[0;31mValueError\u001b[0m: The truth value of an array with more than one element is ambiguous. Use a.any() or a.all()"
     ]
    }
   ],
   "source": [
    "all(board.state[board.win_condition] == 0)"
   ]
  },
  {
   "cell_type": "code",
   "execution_count": 27,
   "id": "e6d2566b-7db3-4ec1-a7fe-2d2befd66c15",
   "metadata": {},
   "outputs": [
    {
     "data": {
      "text/plain": [
       "array([0, 0, 0, 1, 1, 0, 0, 1, 0], dtype=object)"
      ]
     },
     "execution_count": 27,
     "metadata": {},
     "output_type": "execute_result"
    }
   ],
   "source": [
    "board.state"
   ]
  },
  {
   "cell_type": "code",
   "execution_count": 40,
   "id": "2a20d7e7-d325-4dcc-91cf-a5a90a024acb",
   "metadata": {},
   "outputs": [
    {
     "data": {
      "text/plain": [
       "True"
      ]
     },
     "execution_count": 40,
     "metadata": {},
     "output_type": "execute_result"
    }
   ],
   "source": [
    "np.any(board.state[board.win_condition] == 0)"
   ]
  },
  {
   "cell_type": "code",
   "execution_count": 37,
   "id": "45216986-ce15-4434-b4c7-0d87f4006059",
   "metadata": {},
   "outputs": [
    {
     "data": {
      "text/plain": [
       "array([0, 0, 1, 1, 1, 0, 0, 1, 0], dtype=object)"
      ]
     },
     "execution_count": 37,
     "metadata": {},
     "output_type": "execute_result"
    }
   ],
   "source": [
    "board.state"
   ]
  },
  {
   "cell_type": "code",
   "execution_count": null,
   "id": "2e0b176a-f6d4-41b5-be39-b67c4287c051",
   "metadata": {},
   "outputs": [],
   "source": []
  },
  {
   "cell_type": "code",
   "execution_count": 36,
   "id": "23d348ea-cf69-4284-aecf-fd00a46456ce",
   "metadata": {},
   "outputs": [],
   "source": [
    "board.state[2] = 1"
   ]
  },
  {
   "cell_type": "code",
   "execution_count": 45,
   "id": "466169df-3c0c-4c60-879d-190710c237d4",
   "metadata": {},
   "outputs": [],
   "source": [
    "result = board.state[board.win_condition] == 0"
   ]
  },
  {
   "cell_type": "code",
   "execution_count": 46,
   "id": "57e2c7ce-763f-4bf1-9954-45087e12d6a4",
   "metadata": {},
   "outputs": [
    {
     "data": {
      "text/plain": [
       "array([[ True,  True, False],\n",
       "       [ True, False,  True],\n",
       "       [False, False,  True],\n",
       "       [ True, False, False],\n",
       "       [ True, False,  True],\n",
       "       [False,  True,  True],\n",
       "       [ True, False,  True],\n",
       "       [False, False,  True]])"
      ]
     },
     "execution_count": 46,
     "metadata": {},
     "output_type": "execute_result"
    }
   ],
   "source": [
    "result"
   ]
  },
  {
   "cell_type": "code",
   "execution_count": 47,
   "id": "504c047a-20a9-46fd-9bc6-0cb55b31a7b0",
   "metadata": {},
   "outputs": [
    {
     "data": {
      "text/plain": [
       "(8, 3)"
      ]
     },
     "execution_count": 47,
     "metadata": {},
     "output_type": "execute_result"
    }
   ],
   "source": [
    "result.shape"
   ]
  },
  {
   "cell_type": "code",
   "execution_count": 48,
   "id": "f4a79c9d-e681-4fc1-9491-39f235646be2",
   "metadata": {},
   "outputs": [
    {
     "data": {
      "text/plain": [
       "[array([0, 1, 2]),\n",
       " array([0, 3, 6]),\n",
       " array([3, 4, 5]),\n",
       " array([1, 4, 7]),\n",
       " array([6, 7, 8]),\n",
       " array([2, 5, 8]),\n",
       " array([0, 4, 8]),\n",
       " array([2, 4, 6])]"
      ]
     },
     "execution_count": 48,
     "metadata": {},
     "output_type": "execute_result"
    }
   ],
   "source": [
    "board.win_condition"
   ]
  },
  {
   "cell_type": "code",
   "execution_count": 51,
   "id": "6830a238-5003-48f6-8eed-31fb9015fd3e",
   "metadata": {},
   "outputs": [],
   "source": [
    "grid = board.state[board.win_condition]"
   ]
  },
  {
   "cell_type": "code",
   "execution_count": 50,
   "id": "54943b10-09d7-4558-b751-ac06cced3d75",
   "metadata": {},
   "outputs": [
    {
     "data": {
      "text/plain": [
       "0"
      ]
     },
     "execution_count": 50,
     "metadata": {},
     "output_type": "execute_result"
    }
   ],
   "source": [
    "player"
   ]
  },
  {
   "cell_type": "code",
   "execution_count": 60,
   "id": "c96e6c57-b5b7-421c-8498-491337a6dcb8",
   "metadata": {},
   "outputs": [
    {
     "data": {
      "text/plain": [
       "array([0, 0, 1], dtype=object)"
      ]
     },
     "execution_count": 60,
     "metadata": {},
     "output_type": "execute_result"
    }
   ],
   "source": [
    "grid[0]"
   ]
  },
  {
   "cell_type": "code",
   "execution_count": 61,
   "id": "d7340434-5bab-47a2-83f3-ef3c19dde06d",
   "metadata": {},
   "outputs": [
    {
     "ename": "TypeError",
     "evalue": "ufunc 'isfinite' not supported for the input types, and the inputs could not be safely coerced to any supported types according to the casting rule ''safe''",
     "output_type": "error",
     "traceback": [
      "\u001b[0;31m---------------------------------------------------------------------------\u001b[0m",
      "\u001b[0;31mTypeError\u001b[0m                                 Traceback (most recent call last)",
      "Cell \u001b[0;32mIn[61], line 1\u001b[0m\n\u001b[0;32m----> 1\u001b[0m \u001b[43mnp\u001b[49m\u001b[38;5;241;43m.\u001b[39;49m\u001b[43misclose\u001b[49m\u001b[43m(\u001b[49m\u001b[43mgrid\u001b[49m\u001b[43m[\u001b[49m\u001b[38;5;241;43m0\u001b[39;49m\u001b[43m]\u001b[49m\u001b[43m,\u001b[49m\u001b[43mnp\u001b[49m\u001b[38;5;241;43m.\u001b[39;49m\u001b[43marray\u001b[49m\u001b[43m(\u001b[49m\u001b[43m[\u001b[49m\u001b[38;5;241;43m0\u001b[39;49m\u001b[43m,\u001b[49m\u001b[38;5;241;43m0\u001b[39;49m\u001b[43m,\u001b[49m\u001b[38;5;241;43m0\u001b[39;49m\u001b[43m]\u001b[49m\u001b[43m)\u001b[49m\u001b[43m)\u001b[49m\n",
      "File \u001b[0;32m/opt/anaconda3/envs/my-manim-environment/lib/python3.12/site-packages/numpy/core/numeric.py:2348\u001b[0m, in \u001b[0;36misclose\u001b[0;34m(a, b, rtol, atol, equal_nan)\u001b[0m\n\u001b[1;32m   2345\u001b[0m     dt \u001b[38;5;241m=\u001b[39m multiarray\u001b[38;5;241m.\u001b[39mresult_type(y, \u001b[38;5;241m1.\u001b[39m)\n\u001b[1;32m   2346\u001b[0m     y \u001b[38;5;241m=\u001b[39m asanyarray(y, dtype\u001b[38;5;241m=\u001b[39mdt)\n\u001b[0;32m-> 2348\u001b[0m xfin \u001b[38;5;241m=\u001b[39m \u001b[43misfinite\u001b[49m\u001b[43m(\u001b[49m\u001b[43mx\u001b[49m\u001b[43m)\u001b[49m\n\u001b[1;32m   2349\u001b[0m yfin \u001b[38;5;241m=\u001b[39m isfinite(y)\n\u001b[1;32m   2350\u001b[0m \u001b[38;5;28;01mif\u001b[39;00m \u001b[38;5;28mall\u001b[39m(xfin) \u001b[38;5;129;01mand\u001b[39;00m \u001b[38;5;28mall\u001b[39m(yfin):\n",
      "\u001b[0;31mTypeError\u001b[0m: ufunc 'isfinite' not supported for the input types, and the inputs could not be safely coerced to any supported types according to the casting rule ''safe''"
     ]
    }
   ],
   "source": [
    "np.isclose(grid[0],np.array([0,0,0]))"
   ]
  },
  {
   "cell_type": "code",
   "execution_count": 66,
   "id": "a3b7aaa1-6e32-4e62-a203-2fdcd70b2007",
   "metadata": {},
   "outputs": [
    {
     "data": {
      "text/plain": [
       "array([[ True,  True, False],\n",
       "       [ True, False,  True],\n",
       "       [False, False,  True],\n",
       "       [ True, False, False],\n",
       "       [ True, False,  True],\n",
       "       [False,  True,  True],\n",
       "       [ True, False,  True],\n",
       "       [False, False,  True]])"
      ]
     },
     "execution_count": 66,
     "metadata": {},
     "output_type": "execute_result"
    }
   ],
   "source": [
    "board.state[board.win_condition] == 0"
   ]
  },
  {
   "cell_type": "code",
   "execution_count": 69,
   "id": "9a170d3c-a526-4756-9dc1-d2feed7a0c0a",
   "metadata": {},
   "outputs": [
    {
     "data": {
      "text/plain": [
       "array([ True, False, False])"
      ]
     },
     "execution_count": 69,
     "metadata": {},
     "output_type": "execute_result"
    }
   ],
   "source": [
    "board.win_condition[0] == 0"
   ]
  },
  {
   "cell_type": "code",
   "execution_count": null,
   "id": "816a3371-e281-4dad-ba0f-9428acfc237d",
   "metadata": {},
   "outputs": [],
   "source": []
  }
 ],
 "metadata": {
  "kernelspec": {
   "display_name": "Python 3 (ipykernel)",
   "language": "python",
   "name": "python3"
  },
  "language_info": {
   "codemirror_mode": {
    "name": "ipython",
    "version": 3
   },
   "file_extension": ".py",
   "mimetype": "text/x-python",
   "name": "python",
   "nbconvert_exporter": "python",
   "pygments_lexer": "ipython3",
   "version": "3.12.7"
  }
 },
 "nbformat": 4,
 "nbformat_minor": 5
}
