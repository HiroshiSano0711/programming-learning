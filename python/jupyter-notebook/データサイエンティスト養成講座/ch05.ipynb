{
 "cells": [
  {
   "cell_type": "code",
   "execution_count": 1,
   "id": "e17ca6dc-897c-41ed-a7ba-29808916b3de",
   "metadata": {},
   "outputs": [
    {
     "data": {
      "text/plain": [
       "'%.3f'"
      ]
     },
     "execution_count": 1,
     "metadata": {},
     "output_type": "execute_result"
    }
   ],
   "source": [
    "import numpy as np\n",
    "import scipy as sp\n",
    "import pandas as pd\n",
    "import matplotlib.pyplot as plt\n",
    "import seaborn as sns\n",
    "%matplotlib inline\n",
    "%precision 3"
   ]
  },
  {
   "cell_type": "code",
   "execution_count": 2,
   "id": "872e7e99-d00e-45da-ab84-f2f61067b67b",
   "metadata": {},
   "outputs": [],
   "source": [
    "sample = np.arange(10)"
   ]
  },
  {
   "cell_type": "code",
   "execution_count": 5,
   "id": "50092c20-74dd-4153-9272-20b0df60bb76",
   "metadata": {},
   "outputs": [
    {
     "data": {
      "text/plain": [
       "array([0, 1, 2, 3, 4, 5, 6, 7, 8, 9])"
      ]
     },
     "execution_count": 5,
     "metadata": {},
     "output_type": "execute_result"
    }
   ],
   "source": [
    "sample"
   ]
  },
  {
   "cell_type": "code",
   "execution_count": 4,
   "id": "b7efe10e-97f5-49ea-ac1c-124cf3924f68",
   "metadata": {},
   "outputs": [
    {
     "data": {
      "text/plain": [
       "array([0, 1, 2, 3, 4])"
      ]
     },
     "execution_count": 4,
     "metadata": {},
     "output_type": "execute_result"
    }
   ],
   "source": [
    "sample_slice = sample[0:5]\n",
    "sample_slice"
   ]
  },
  {
   "cell_type": "code",
   "execution_count": 7,
   "id": "21e5c131-1856-4474-bfa5-1d3c6d8ee973",
   "metadata": {},
   "outputs": [],
   "source": [
    "sample_slice[0:3] = 10"
   ]
  },
  {
   "cell_type": "code",
   "execution_count": 12,
   "id": "c1989204-758b-4b89-93bf-c035a09964c6",
   "metadata": {},
   "outputs": [
    {
     "data": {
      "text/plain": [
       "array([10, 10, 10,  3,  4,  5,  6,  7,  8,  9])"
      ]
     },
     "execution_count": 12,
     "metadata": {},
     "output_type": "execute_result"
    }
   ],
   "source": [
    "sample_copy = np.copy(sample)\n",
    "sample_copy[0:3] = 20"
   ]
  },
  {
   "cell_type": "code",
   "execution_count": 14,
   "id": "3c2dcb3c-5d6a-4b6d-a1f9-e7ffc30fa439",
   "metadata": {},
   "outputs": [
    {
     "data": {
      "text/plain": [
       "array([  1,   2, 300, 400,   5])"
      ]
     },
     "execution_count": 14,
     "metadata": {},
     "output_type": "execute_result"
    }
   ],
   "source": [
    "cond_data = np.array([True,True,False,False,True])\n",
    "x_array = np.array([1,2,3,4,5])\n",
    "y_array = np.array([100,200,300,400,500])\n",
    "np.where(cond_data,x_array,y_array)"
   ]
  },
  {
   "cell_type": "code",
   "execution_count": 15,
   "id": "bce6bae3-eeee-42bc-b3fa-290f1bba08ee",
   "metadata": {},
   "outputs": [
    {
     "data": {
      "text/plain": [
       "array([False,  True])"
      ]
     },
     "execution_count": 15,
     "metadata": {},
     "output_type": "execute_result"
    }
   ],
   "source": [
    "np.unique(cond_data)"
   ]
  },
  {
   "cell_type": "code",
   "execution_count": 16,
   "id": "46272173-77ff-49d8-a587-532c8c3f5436",
   "metadata": {},
   "outputs": [
    {
     "data": {
      "text/plain": [
       "array([ True,  True, False, False,  True])"
      ]
     },
     "execution_count": 16,
     "metadata": {},
     "output_type": "execute_result"
    }
   ],
   "source": [
    "cond_data"
   ]
  },
  {
   "cell_type": "code",
   "execution_count": 35,
   "id": "9281f3aa-4286-43bf-9c18-505045a88cbd",
   "metadata": {},
   "outputs": [
    {
     "name": "stdout",
     "output_type": "stream",
     "text": [
      "USV=\n",
      " [[ 1.  2.  3.  4.  5.]\n",
      " [ 6.  7.  8.  9. 10.]]\n"
     ]
    }
   ],
   "source": [
    "# 特異値分解\n",
    "A = np.array([\n",
    "    [1,2,3,4,5],\n",
    "    [6,7,8,9,10]\n",
    "])\n",
    "U, s, Vs = sp.linalg.svd(A)\n",
    "m, n = A.shape\n",
    "S = sp.linalg.diagsvd(s,m,n)\n",
    "print('USV=\\n', U@S@V)"
   ]
  },
  {
   "cell_type": "code",
   "execution_count": 43,
   "id": "2e2257f0-d48a-4198-a2db-da0a67124d41",
   "metadata": {},
   "outputs": [
    {
     "name": "stdout",
     "output_type": "stream",
     "text": [
      "(3.141592653589793, 3.487868498008632e-14)\n",
      "(3.141592653589793, 3.487868498008632e-14)\n"
     ]
    }
   ],
   "source": [
    "import math\n",
    "\n",
    "def calc_π(x):\n",
    "    return 4/(1 + x**2)\n",
    "\n",
    "print(sp.integrate.quad(calc_π, 0, 1))\n",
    "print(sp.integrate.quad(lambda x: 4/(1 + x**2), 0, 1))"
   ]
  },
  {
   "cell_type": "code",
   "execution_count": null,
   "id": "c60809c8-d75f-4791-8ed8-1db1623a4aca",
   "metadata": {},
   "outputs": [],
   "source": []
  }
 ],
 "metadata": {
  "kernelspec": {
   "display_name": "Python 3 (ipykernel)",
   "language": "python",
   "name": "python3"
  },
  "language_info": {
   "codemirror_mode": {
    "name": "ipython",
    "version": 3
   },
   "file_extension": ".py",
   "mimetype": "text/x-python",
   "name": "python",
   "nbconvert_exporter": "python",
   "pygments_lexer": "ipython3",
   "version": "3.12.7"
  }
 },
 "nbformat": 4,
 "nbformat_minor": 5
}
